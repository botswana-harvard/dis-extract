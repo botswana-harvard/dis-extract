{
 "cells": [
  {
   "cell_type": "markdown",
   "metadata": {},
   "source": [
    "Export Legacy LIS/DMIS data"
   ]
  },
  {
   "cell_type": "code",
   "execution_count": null,
   "metadata": {},
   "outputs": [],
   "source": [
    "import os\n",
    "\n",
    "from edc_base.utils import get_utcnow\n",
    "from dmis_extract import LabData\n",
    "\n",
    "protocol_identifier = 'BHP085'\n",
    "database = 'BHPLAB'\n",
    "path = '/Users/erikvw/Documents/tshilo-dikotla/data/20171122/lab/'\n",
    "date_format = '%Y-%m-%d'\n",
    "sep = ','\n",
    "timestamp = get_utcnow().strftime('%Y%m%d%H%M%S')"
   ]
  },
  {
   "cell_type": "code",
   "execution_count": null,
   "metadata": {},
   "outputs": [],
   "source": [
    "data = LabData(\n",
    "    protocol_identifier=protocol_identifier,\n",
    "    database=database)\n",
    "\n",
    "data.fetch_received(days=None)"
   ]
  },
  {
   "cell_type": "code",
   "execution_count": null,
   "metadata": {},
   "outputs": [],
   "source": [
    "# fetch receiving records\n",
    "data.fetch_received(days=None)\n",
    "df_received = data.received.dataframe\n",
    "df_received.head()"
   ]
  },
  {
   "cell_type": "code",
   "execution_count": null,
   "metadata": {},
   "outputs": [],
   "source": [
    "# fetch result records\n",
    "data.fetch_resulted(days=None, merge=True)\n",
    "df_resulted = data.resulted.dataframe\n",
    "df_resulted.head()"
   ]
  },
  {
   "cell_type": "code",
   "execution_count": null,
   "metadata": {},
   "outputs": [],
   "source": [
    "# fetch storage records\n",
    "data.fetch_stored(days=None, merge=True)\n",
    "df_stored = data.stored.dataframe\n",
    "df_stored.head()"
   ]
  },
  {
   "cell_type": "code",
   "execution_count": null,
   "metadata": {},
   "outputs": [],
   "source": [
    "opts = dict(\n",
    "    index=False,\n",
    "    date_format=date_format,\n",
    "    sep=sep)\n",
    "\n",
    "filename = os.path.join(path, f'received_{timestamp}.csv')\n",
    "df_received.to_csv(path_or_buf=os.path.join(path, filename), **opts)\n",
    "\n",
    "filename = os.path.join(path, f'resulted_{timestamp}.csv')\n",
    "df_resulted.to_csv(path_or_buf=os.path.join(path, filename), **opts)\n",
    "\n",
    "filename = os.path.join(path, f'stored_{timestamp}.csv')\n",
    "df_stored.to_csv(path_or_buf=os.path.join(path, filename), **opts)"
   ]
  },
  {
   "cell_type": "code",
   "execution_count": null,
   "metadata": {},
   "outputs": [],
   "source": []
  }
 ],
 "metadata": {
  "kernelspec": {
   "display_name": "Django Shell-Plus",
   "language": "python",
   "name": "django_extensions"
  },
  "language_info": {
   "codemirror_mode": {
    "name": "ipython",
    "version": 3
   },
   "file_extension": ".py",
   "mimetype": "text/x-python",
   "name": "python",
   "nbconvert_exporter": "python",
   "pygments_lexer": "ipython3",
   "version": "3.6.3"
  }
 },
 "nbformat": 4,
 "nbformat_minor": 2
}
